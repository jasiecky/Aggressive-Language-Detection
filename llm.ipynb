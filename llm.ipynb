{
 "cells": [
  {
   "cell_type": "code",
   "execution_count": null,
   "metadata": {
    "colab": {
     "base_uri": "https://localhost:8080/"
    },
    "id": "9LY9MwyuZgyj",
    "outputId": "74cc7f3f-c6ed-4247-878f-35f8fde97da8"
   },
   "outputs": [],
   "source": [
    "%pip install tensorflow==2.15.0\n",
    "%pip install contractions==0.1.73\n",
    "%pip install word2number==1.1\n",
    "%pip install Unidecode==1.3.7\n",
    "%pip install num2words==0.5.13"
   ]
  },
  {
   "cell_type": "code",
   "execution_count": null,
   "metadata": {
    "colab": {
     "base_uri": "https://localhost:8080/"
    },
    "id": "VRSIRH7fV0wF",
    "outputId": "442ef20c-ad97-4b71-99f2-ec7e3f6d5b3b"
   },
   "outputs": [],
   "source": [
    "import tensorflow as tf\n",
    "from tensorflow.keras.preprocessing.text import Tokenizer\n",
    "from tensorflow.keras.preprocessing.sequence import pad_sequences\n",
    "import tensorflow.keras.layers as L\n",
    "from tensorflow.keras.losses import SparseCategoricalCrossentropy\n",
    "from tensorflow.keras.optimizers import Adam\n",
    "from sklearn.metrics import confusion_matrix\n",
    "from sklearn.metrics import classification_report\n",
    "import matplotlib.pyplot as plt\n",
    "import seaborn as sns\n",
    "from sklearn.model_selection import train_test_split\n",
    "import numpy as np\n",
    "import pandas as pd\n",
    "from nltk.corpus import stopwords\n",
    "from nltk.stem.snowball import PorterStemmer\n",
    "import re\n",
    "import spacy\n",
    "import collections\n",
    "import nltk\n",
    "from nltk.stem import WordNetLemmatizer\n",
    "import wordcloud\n",
    "from wordcloud import WordCloud\n",
    "from collections import Counter\n",
    "from string import punctuation\n",
    "from sklearn.feature_extraction.text import TfidfVectorizer\n",
    "import contractions\n",
    "from word2number import w2n\n",
    "import unidecode\n",
    "from sklearn.metrics import ConfusionMatrixDisplay\n",
    "import num2words\n",
    "from sklearn.feature_extraction.text import CountVectorizer\n",
    "from sklearn.feature_extraction.text import TfidfTransformer\n",
    "from imblearn.over_sampling import SMOTE\n",
    "from sklearn.linear_model import LogisticRegression\n",
    "from sklearn.metrics import classification_report\n",
    "from sklearn.metrics import accuracy_score\n",
    "import inflect\n",
    "from tensorflow.keras.layers import Dropout\n",
    "from sklearn.metrics import roc_curve, auc\n",
    "from nltk import word_tokenize\n",
    "from sklearn.model_selection import train_test_split, GridSearchCV\n",
    "from sklearn.metrics import accuracy_score\n",
    "from tensorflow.keras.models import Sequential\n",
    "from tensorflow.keras.layers import LSTM, Dense\n",
    "#from tensorflow.keras.wrappers.scikit_learn import KerasClassifier\n",
    "from mpl_toolkits.mplot3d import Axes3D\n",
    "from sklearn.metrics import precision_recall_curve, average_precision_score\n",
    "import tensorflow as tf\n",
    "from transformers import DistilBertTokenizer, TFDistilBertForSequenceClassification\n",
    "\n",
    "plt.rcParams['figure.figsize'] = (12,5)\n",
    "\n",
    "nltk.download(\"stopwords\")\n",
    "nltk.download('punkt')\n",
    "nltk.download('wordnet')\n",
    "pd.set_option('display.max_colwidth', None)"
   ]
  },
  {
   "cell_type": "markdown",
   "metadata": {
    "id": "zcaAjHrJNKCq"
   },
   "source": [
    "# 1. Cel\n",
    "Celem projektu jest stworzenie modelu analizy sentymentu, a dokładniej klasyfikatora binarnego wykrywającego agresję językową (obraźliwy język) we wpisach na portalu Twitter.\n"
   ]
  },
  {
   "cell_type": "markdown",
   "metadata": {
    "id": "_wFVdOO0V0wI"
   },
   "source": [
    "# 2. Pozyskanie danych"
   ]
  },
  {
   "cell_type": "markdown",
   "metadata": {
    "id": "g14ac2HsG_OU"
   },
   "source": [
    "Dane pobrano ze strony Kaggle.com - [Hate Speech and Offensive Language Dataset](https://www.kaggle.com/datasets/mrmorj/hate-speech-and-offensive-language-dataset). W pierwszej kolejności pobrano dane i usunięto niepotrzebne kolumny, zostawiając tylko class i tweet, czyli klasyfikację wpisu i jego treść. Domyślnie wpisy neutralne mają klasę 2, a agresywne 1, zaś klasa 0, czyli tzw. mowa nienawiści została całkowicie usunięta, wobec czego zmieniono klasę wpisów neutralnych na 0."
   ]
  },
  {
   "cell_type": "code",
   "execution_count": null,
   "metadata": {
    "colab": {
     "base_uri": "https://localhost:8080/",
     "height": 241
    },
    "id": "PRrof9y3V0wJ",
    "outputId": "19301ffc-189c-48c1-8528-f2fe78970da0"
   },
   "outputs": [],
   "source": [
    "df = pd.read_csv(\"./labeled_data.csv\")\n",
    "df.drop(columns = ['Unnamed: 0', \"count\", \"hate_speech\", \"offensive_language\", \"neither\"], inplace=True)\n",
    "df = df[df[\"class\"] != 0]\n",
    "df.replace({\"class\": {2: 0}}, inplace=True)\n",
    "\n",
    "df.head()"
   ]
  },
  {
   "cell_type": "markdown",
   "metadata": {
    "id": "MvIx1zYjMi_D"
   },
   "source": [
    "# 3. Wstępna ocena danych"
   ]
  },
  {
   "cell_type": "markdown",
   "metadata": {
    "id": "ZXlCJCqUHowc"
   },
   "source": [
    "Jak widać po poniższych wynikach operacja przebiegła pomyślnie. Ramka danych składa się teraz z dwóch kolumn, class przyjmuje wartość 0 lub 1, a w zbiorze danych nie ma wartości brakujących ani zduplikowanych wpisów."
   ]
  },
  {
   "cell_type": "code",
   "execution_count": null,
   "metadata": {
    "colab": {
     "base_uri": "https://localhost:8080/"
    },
    "id": "12LDaj_rOjXC",
    "outputId": "7a17f41e-cde6-4ac1-dbd0-d7d6342704d1"
   },
   "outputs": [],
   "source": [
    "df.info()"
   ]
  },
  {
   "cell_type": "code",
   "execution_count": null,
   "metadata": {
    "colab": {
     "base_uri": "https://localhost:8080/"
    },
    "id": "Q4Loibr46iz5",
    "outputId": "de07d640-3a35-43f6-aa7d-fbdc2eacf4de"
   },
   "outputs": [],
   "source": [
    "# sprawdzamy czy na pewno mamy odpowiednią liczbę klas\n",
    "df['class'].unique()"
   ]
  },
  {
   "cell_type": "code",
   "execution_count": null,
   "metadata": {
    "colab": {
     "base_uri": "https://localhost:8080/",
     "height": 53
    },
    "id": "UcsI7-x15ocf",
    "outputId": "9601d66d-1b91-4a42-f6e7-040e61c79dc0"
   },
   "outputs": [],
   "source": [
    "# sprawdzamy czy istnieją zduplikowane tweety\n",
    "df[df.duplicated(['tweet'], keep=False)]"
   ]
  },
  {
   "cell_type": "code",
   "execution_count": null,
   "metadata": {
    "colab": {
     "base_uri": "https://localhost:8080/"
    },
    "id": "GStjazye6ACP",
    "outputId": "15b49d8d-2561-4804-d1fa-46f7787dea66"
   },
   "outputs": [],
   "source": [
    "# sprawdzamy czy istnieją brakujące wartości\n",
    "df.isnull().sum()"
   ]
  },
  {
   "cell_type": "markdown",
   "metadata": {
    "id": "cqGIuHaLH-S9"
   },
   "source": [
    "Poniżej wyświetlono przykładowe wpisy neutralne oraz agresywne. Można zauważyć, że wpisy agresywne charakteryzują się dużo większą liczbą wulgaryzmów oraz wyzwiskami."
   ]
  },
  {
   "cell_type": "code",
   "execution_count": null,
   "metadata": {
    "colab": {
     "base_uri": "https://localhost:8080/",
     "height": 223
    },
    "id": "yD25XODk63ll",
    "outputId": "36614912-2446-4866-df1d-2bbf171e534d"
   },
   "outputs": [],
   "source": [
    "df[df['class'] == 0].head(5)"
   ]
  },
  {
   "cell_type": "code",
   "execution_count": null,
   "metadata": {
    "colab": {
     "base_uri": "https://localhost:8080/",
     "height": 241
    },
    "id": "Bm0Ne9IH6-Pt",
    "outputId": "1c0b2af7-0897-412f-d1eb-30904a2e4a2e"
   },
   "outputs": [],
   "source": [
    "df[df['class'] == 1].head(5)"
   ]
  },
  {
   "cell_type": "markdown",
   "metadata": {
    "id": "jFYsUKKmIO96"
   },
   "source": [
    "Następnie sprawdzono unikalne znaki. Jak widać oprócz liter znajduje się również wiele znaków interpunkcyjnych oraz cyfr. W dodatku litery występują zarówno jako duże, jak i małe."
   ]
  },
  {
   "cell_type": "code",
   "execution_count": null,
   "metadata": {
    "colab": {
     "base_uri": "https://localhost:8080/"
    },
    "id": "iZbqJM_TMFLf",
    "outputId": "c1fa0696-f989-4dda-824f-ca0ab5623194"
   },
   "outputs": [],
   "source": [
    "print(\"Lista unikalnych znaków: \", set(df['tweet'].sum()))"
   ]
  },
  {
   "cell_type": "markdown",
   "metadata": {
    "id": "g8_tED3KImiM"
   },
   "source": [
    "Liczba unikalnych słów w całym zbiorze danych to 51350. Jednakże wiele z nich to tak zwane \"stop words\" lub słowa charakterystyczne dla Twittera, np. rt, czyli retweet."
   ]
  },
  {
   "cell_type": "code",
   "execution_count": null,
   "metadata": {
    "colab": {
     "base_uri": "https://localhost:8080/"
    },
    "id": "8HovuZ_fMuAA",
    "outputId": "28510df3-a17b-4342-b7ab-8aa380eec65c"
   },
   "outputs": [],
   "source": [
    "results = set()\n",
    "df['tweet'].str.lower().str.split().apply(results.update)\n",
    "print(\"Liczba unikalnych słów: \", len(results))"
   ]
  },
  {
   "cell_type": "code",
   "execution_count": null,
   "metadata": {
    "colab": {
     "base_uri": "https://localhost:8080/"
    },
    "id": "O08zbtwZ6jq8",
    "outputId": "86803c2b-004b-4405-9fda-3546d557f824"
   },
   "outputs": [],
   "source": [
    "# sprawdzamy najpopularniejsze słowa\n",
    "print(\"Najpopularniejsze słowa i ich liczność: \", Counter(\" \".join(df['tweet'].str.lower()).split()).most_common(100))"
   ]
  },
  {
   "cell_type": "markdown",
   "metadata": {
    "id": "gyg_fHNFJCOr"
   },
   "source": [
    "### Liczność klas"
   ]
  },
  {
   "cell_type": "markdown",
   "metadata": {
    "id": "7-yySIRXJKcs"
   },
   "source": [
    "Sprawdzono liczność klas, jak widać na poniższym wykresie zbiór jest niezbalansowany i jest widoczna kilkukrotnie większa liczba wpisów agresywnych, niż neutralnych."
   ]
  },
  {
   "cell_type": "code",
   "execution_count": null,
   "metadata": {
    "colab": {
     "base_uri": "https://localhost:8080/",
     "height": 428
    },
    "id": "GN1E6sdCI85M",
    "outputId": "fff5f120-026e-4fd0-ab9d-62b758a1620f"
   },
   "outputs": [],
   "source": [
    "# sprawdzamy liczność klas\n",
    "sns.countplot(x = \"class\", data = df)\n",
    "plt.title(\"Liczność klas\")\n",
    "plt.show()"
   ]
  },
  {
   "cell_type": "markdown",
   "metadata": {
    "id": "idetNJ0ZK-Bj"
   },
   "source": [
    "## Najczęściej występujące słowa\n",
    "\n",
    "Następnie sprawdzono najpopularniejsze słowa dla całego zbioru danych, agresywnych wpisów i wpisów neutralnych."
   ]
  },
  {
   "cell_type": "code",
   "execution_count": null,
   "metadata": {
    "id": "uK4KOi7CKMXs"
   },
   "outputs": [],
   "source": [
    "def plot_top_words(top_words, title):\n",
    "    words = [item[0] for item in top_words]\n",
    "    counts = [item[1] for item in top_words]\n",
    "    plt.bar(words, counts)\n",
    "    plt.xlabel(\"Words\")\n",
    "    plt.ylabel(\"Counts\")\n",
    "    plt.title(title)\n",
    "    plt.xticks(rotation=45)\n",
    "    plt.show()"
   ]
  },
  {
   "cell_type": "code",
   "execution_count": null,
   "metadata": {
    "colab": {
     "base_uri": "https://localhost:8080/",
     "height": 460
    },
    "id": "bFG3d9-6Jtz9",
    "outputId": "ffa82320-62f9-4343-de37-427009db5d96"
   },
   "outputs": [],
   "source": [
    "top_words_for_whole_dataset = Counter(\" \".join(df['tweet'].str.lower()).split()).most_common(30)\n",
    "plot_top_words(top_words_for_whole_dataset, \"The most common 30 words in dataset\")"
   ]
  },
  {
   "cell_type": "code",
   "execution_count": null,
   "metadata": {
    "colab": {
     "base_uri": "https://localhost:8080/",
     "height": 460
    },
    "id": "WfdQnmskKf2c",
    "outputId": "665cb1ad-9253-4037-bce0-91e0e54a3aba"
   },
   "outputs": [],
   "source": [
    "top_words_for_agressive_tweets = Counter(\" \".join(df[df['class']==1][\"tweet\"].str.lower()).split()).most_common(30)\n",
    "plot_top_words(top_words_for_agressive_tweets, \"The most common 30 words in agressive tweets\")"
   ]
  },
  {
   "cell_type": "code",
   "execution_count": null,
   "metadata": {
    "colab": {
     "base_uri": "https://localhost:8080/",
     "height": 457
    },
    "id": "CkRXjsi1K0Uz",
    "outputId": "a5ef87e3-e812-4a2e-9bb5-067cf5c85f68"
   },
   "outputs": [],
   "source": [
    "top_words_for_neutral_tweets = Counter(\" \".join(df[df['class']==0][\"tweet\"].str.lower()).split()).most_common(30)\n",
    "plot_top_words(top_words_for_neutral_tweets, \"The most common 30 words in neutral tweets\")"
   ]
  },
  {
   "cell_type": "markdown",
   "metadata": {
    "id": "Lg1Xo-YGV0wK"
   },
   "source": [
    "W celu lepszego zwizualizowania najczęściej występujących słów utworzono \"world cloud\" dla całego zbioru danych, wpisów agresywnych i neutralnych."
   ]
  },
  {
   "cell_type": "code",
   "execution_count": null,
   "metadata": {
    "id": "TGdy64PiMUFO"
   },
   "outputs": [],
   "source": [
    "def plot_word_cloud(words, title):\n",
    "    wordCloud = WordCloud(width=400, height=300, random_state=100, max_font_size=100).generate(words)\n",
    "    plt.figure(figsize=(11, 9))\n",
    "    plt.axis('off')\n",
    "    plt.imshow(wordCloud, interpolation=\"bilinear\")\n",
    "    plt.title(title)\n",
    "    plt.show()\n",
    "\n",
    "def join_tweets_by_class(data, class_label=None):\n",
    "    if isinstance(data, pd.DataFrame):\n",
    "        if class_label is not None:\n",
    "            tweets = ' '.join([tweet for tweet in data[data['class'] == class_label]['tweet']])\n",
    "        else:\n",
    "            tweets = ' '.join([tweet for tweet in data['tweet']])\n",
    "\n",
    "    if isinstance(data, pd.Series):\n",
    "        tweets = ' '.join([tweet for tweet in data])\n",
    "\n",
    "    return tweets"
   ]
  },
  {
   "cell_type": "code",
   "execution_count": null,
   "metadata": {
    "colab": {
     "base_uri": "https://localhost:8080/",
     "height": 698
    },
    "id": "yCey3Ec_V0wK",
    "outputId": "1cfbead9-8ec8-4db6-98a0-ecdce9584994"
   },
   "outputs": [],
   "source": [
    "all_words = join_tweets_by_class(df)\n",
    "plot_word_cloud(all_words, \"Word cloud for whole dataset\")"
   ]
  },
  {
   "cell_type": "code",
   "execution_count": null,
   "metadata": {
    "colab": {
     "base_uri": "https://localhost:8080/",
     "height": 698
    },
    "id": "gpUnYBZRV0wL",
    "outputId": "4f2b17b9-5c05-49cc-8eee-c5fe7ad3dc52"
   },
   "outputs": [],
   "source": [
    "agressive_tweets_words = join_tweets_by_class(df, 1)\n",
    "plot_word_cloud(agressive_tweets_words, \"Word cloud for agressive tweets\")"
   ]
  },
  {
   "cell_type": "code",
   "execution_count": null,
   "metadata": {
    "colab": {
     "base_uri": "https://localhost:8080/",
     "height": 698
    },
    "id": "c_p3OaKTV0wL",
    "outputId": "a1d6923f-6b1e-4597-e9b4-65d20d373759"
   },
   "outputs": [],
   "source": [
    "neutral_tweets_words = join_tweets_by_class(df, 0)\n",
    "plot_word_cloud(neutral_tweets_words, \"Word cloud for neutral tweets\")"
   ]
  },
  {
   "cell_type": "markdown",
   "metadata": {
    "id": "nb6PMkbKTb-t"
   },
   "source": [
    "W związku z przewagą wpisów agresywnych w zbiorze danych najczęstsze słowa w całym zbiorze są zdominowane przez słowa charakterystyczne dla wpisów agresywnych. Uwagę zwraca również obecność dużej liczby tagów Twitter'a - \"rt\" oraz innych słów nie mających wpływu na końcowe znaczenie zdania."
   ]
  },
  {
   "cell_type": "markdown",
   "metadata": {
    "id": "Bxj6t-JngxMA"
   },
   "source": [
    "## Rozkład długości wpisów pod względem liczby znaków\n",
    "Obliczono statysyki opisowe oraz utworzono histogramy i wykresy pudełkowe w celu prześledzenia rozkładu długości wpisów."
   ]
  },
  {
   "cell_type": "code",
   "execution_count": null,
   "metadata": {
    "colab": {
     "base_uri": "https://localhost:8080/"
    },
    "id": "taBF4QUsSpZ6",
    "outputId": "9fce1bb8-3ef7-4b26-8172-3ec09e060b86"
   },
   "outputs": [],
   "source": [
    "df['tweet_length'] = df['tweet'].apply(len)\n",
    "print(\"Statystyki opisowe dla długości wpisów w całym zbiorze danych: \\n\", df[\"tweet_length\"].describe(), \"\\n\")\n",
    "print(\"Statystyki opisowe dla długości wpisów agresywnych: \\n\", df[df['class'] == 1][\"tweet_length\"].describe(), \"\\n\")\n",
    "print(\"Statystyki opisowe dla długości wpisów neutralnych: \\n\", df[df['class'] == 0][\"tweet_length\"].describe(), \"\\n\")"
   ]
  },
  {
   "cell_type": "code",
   "execution_count": null,
   "metadata": {
    "colab": {
     "base_uri": "https://localhost:8080/",
     "height": 529
    },
    "id": "7-Hcdwts-ILf",
    "outputId": "30acc0e5-a1c7-49cc-8dc3-ca47d6dcd528"
   },
   "outputs": [],
   "source": [
    "# sprawdzamy rozkład długości wpisów pod względem liczby znaków\n",
    "sns.displot(df['tweet_length'])\n",
    "plt.title(\"Distribution of tweet lengths\")\n",
    "plt.show()"
   ]
  },
  {
   "cell_type": "code",
   "execution_count": null,
   "metadata": {
    "colab": {
     "base_uri": "https://localhost:8080/",
     "height": 352
    },
    "id": "YAg4yA-YqnFm",
    "outputId": "182ed545-3a31-449e-c654-fef7278468bf"
   },
   "outputs": [],
   "source": [
    "# sprawdzamy rozkład długości wpisów w poszczególnych klasach\n",
    "graph = sns.FacetGrid(data=df, col='class')\n",
    "graph.map(plt.hist, 'tweet_length', bins=40)\n",
    "graph.set_titles(\"Class - {col_name}\")\n",
    "plt.suptitle(\"Distribution of tweet lenghts by class\", y=1.1)\n",
    "\n",
    "plt.show()"
   ]
  },
  {
   "cell_type": "code",
   "execution_count": null,
   "metadata": {
    "colab": {
     "base_uri": "https://localhost:8080/",
     "height": 435
    },
    "id": "EH1vymVvxhzL",
    "outputId": "e1182d62-ccfb-41d2-c6f9-c990fdb2d5b8"
   },
   "outputs": [],
   "source": [
    "sns.boxplot(y='tweet_length', x='class', data=df)\n",
    "plt.title(\"Tweet length by class\")\n",
    "plt.xlabel(\"Class\")\n",
    "plt.ylabel(\"Tweet Length\")\n",
    "\n",
    "plt.show()"
   ]
  },
  {
   "cell_type": "markdown",
   "metadata": {
    "id": "2TAiiD7yRfGN"
   },
   "source": [
    "Rozkłady długości wpisów w całym zbiorze danych oraz w poszczególnych klasach są zbliżone. Uwagę zwraca większa liczba wartości odstających w przypadku wpisów agresywnych."
   ]
  },
  {
   "cell_type": "code",
   "execution_count": null,
   "metadata": {
    "colab": {
     "base_uri": "https://localhost:8080/"
    },
    "id": "HxMQPFSYEfoc",
    "outputId": "7399316f-f6b8-44f4-e984-7f30eb22f06f"
   },
   "outputs": [],
   "source": [
    "df['number_of_words'] = df['tweet'].str.split().apply(len)\n",
    "print(\"Statystyki opisowe dla długości wpisów pod względem liczby słów w całym zbiorze danych: \\n\", df[\"number_of_words\"].describe(), \"\\n\")\n",
    "print(\"Statystyki opisowe dla długości wpisów agresywnych pod względem liczby słów: \\n\", df[df['class'] == 1][\"number_of_words\"].describe(), \"\\n\")\n",
    "print(\"Statystyki opisowe dla długości wpisów neutralnych pod względem liczby słów: \\n\", df[df['class'] == 0][\"number_of_words\"].describe(), \"\\n\")"
   ]
  },
  {
   "cell_type": "markdown",
   "metadata": {
    "id": "ctHe0okMe7BP"
   },
   "source": [
    "## Rozkład długości wpisów pod względem liczby słów\n",
    "Obliczono statysyki opisowe oraz utworzono histogramy i wykresy pudełkowe w celu prześledzenia rozkładu liczby słów we wpisach."
   ]
  },
  {
   "cell_type": "code",
   "execution_count": null,
   "metadata": {
    "colab": {
     "base_uri": "https://localhost:8080/",
     "height": 529
    },
    "id": "hMdr7n1UFNeS",
    "outputId": "21cfdfbb-d8a4-4758-9087-7754c68cd7ac"
   },
   "outputs": [],
   "source": [
    "sns.displot(df['number_of_words'])\n",
    "plt.title(\"Distribution of number of words in tweets\")\n",
    "plt.show()"
   ]
  },
  {
   "cell_type": "code",
   "execution_count": null,
   "metadata": {
    "colab": {
     "base_uri": "https://localhost:8080/",
     "height": 352
    },
    "id": "Dzt1tRY2FV3X",
    "outputId": "e852fa68-102f-4f85-b9dc-ce412ee9949e"
   },
   "outputs": [],
   "source": [
    "graph = sns.FacetGrid(data=df, col='class')\n",
    "graph.map(plt.hist, 'number_of_words', bins=30)\n",
    "graph.set_titles(\"Class - {col_name}\")\n",
    "plt.suptitle(\"Distribution of number of words in tweet by class\", y=1.1)\n",
    "\n",
    "plt.show()"
   ]
  },
  {
   "cell_type": "code",
   "execution_count": null,
   "metadata": {
    "colab": {
     "base_uri": "https://localhost:8080/",
     "height": 439
    },
    "id": "f2lyRgcLFcNm",
    "outputId": "677cbca8-607a-4b7c-9b5f-24005bdec38a"
   },
   "outputs": [],
   "source": [
    "sns.boxplot(y='number_of_words', x='class', data=df)\n",
    "plt.title(\"Number of words in tweet by class\")\n",
    "plt.xlabel(\"Class\")\n",
    "plt.ylabel(\"Number of words in tweet\")\n",
    "\n",
    "plt.show()"
   ]
  },
  {
   "cell_type": "markdown",
   "metadata": {
    "id": "Si0DB4GjF47w"
   },
   "source": [
    "Również w przypadku liczby słów we wpisach rozkłady w całym zbiorze danych oraz w poszczególnych klasach są zbliżone."
   ]
  },
  {
   "cell_type": "markdown",
   "metadata": {
    "id": "KZdX4RnuV0wM"
   },
   "source": [
    "# 4. Przygotowanie danych do modelowania\n",
    "\n",
    "Po wstępnej ocenie danych rozpoczęto ich przetwarzanie. W pierwszej kolejności podzielono ramkę danych na X i y."
   ]
  },
  {
   "cell_type": "markdown",
   "metadata": {
    "id": "NQUaLz7DlVwh"
   },
   "source": [
    "### Podział na X i y"
   ]
  },
  {
   "cell_type": "code",
   "execution_count": null,
   "metadata": {
    "id": "tVkV12IiV0wM"
   },
   "outputs": [],
   "source": [
    "X = df['tweet'].copy()\n",
    "y = df['class'].copy()"
   ]
  },
  {
   "cell_type": "markdown",
   "metadata": {
    "id": "v9cZ0a2flbnR"
   },
   "source": [
    "\n",
    "### Przygotowanie funkcji oczyszczających dane\n",
    "\n",
    "Po podziale zbioru przygotowano funkcje mające na celu przeprowadzenie poszczególnych elementów normalizacji oraz lematyzacji."
   ]
  },
  {
   "cell_type": "code",
   "execution_count": null,
   "metadata": {
    "id": "gktjJzwi-eeu"
   },
   "outputs": [],
   "source": [
    "def lower(tweet: str) -> str:\n",
    "  return tweet.lower()\n",
    "\n",
    "def clean_tweet(tweet: str) -> str:\n",
    "    tweet = re.sub(r'http\\S+', ' ', tweet) # usuwanie url\n",
    "    tweet = re.sub(r'<.*?>',' ', tweet) # usuwanie tagów html\n",
    "    tweet = re.sub(r'#\\w+',' ', tweet) # usuwanie hasztagów\n",
    "    tweet = re.sub(r'@\\w+',' ', tweet) # usuwanie oznaczeń\n",
    "\n",
    "    return tweet\n",
    "\n",
    "def remove_punctuation(tweet: list) -> list:\n",
    "    sentence = []\n",
    "    for word in tweet:\n",
    "      word = re.sub(r'[^\\w\\s]','', word) # usuwanie wszystkiego co nie jest literami oraz interpunkcją\n",
    "      word = word.replace('-', '')\n",
    "      word = word.replace('_', '')\n",
    "      word = word.replace(',', '')\n",
    "      word = re.sub('[^A-Za-z0-9]+', '', word) # usuwanie wszystkiego co nie jest literami oraz cyframi\n",
    "      sentence.append(word) if word != '' else None\n",
    "    return sentence\n",
    "\n",
    "def remove_twitter_tags(tweet: list) -> list:\n",
    "    twitter_tags = (\"ff\", \"rt\")\n",
    "    tweet = [word for word in tweet if word not in twitter_tags]\n",
    "    return tweet\n",
    "\n",
    "def remove_stop_words(tweet: list) -> list:\n",
    "    stop_words_extended = [\"a\",\"a's\",\"able\",\"about\",\"above\",\"according\",\"accordingly\",\"across\",\"actually\",\"after\",\"afterwards\",\"again\",\"against\",\"ain't\",\"all\",\"allow\",\"allows\",\"almost\",\"alone\",\"along\",\"already\",\"also\",\"although\",\"always\",\"am\",\"among\",\"amongst\",\"an\",\"and\",\"another\",\"any\",\"anybody\",\"anyhow\",\"anyone\",\"anything\",\"anyway\",\"anyways\",\"anywhere\",\"apart\",\"appear\",\"appreciate\",\"appropriate\",\"are\",\"aren't\",\"around\",\"as\",\"aside\",\"ask\",\"asking\",\"associated\",\"at\",\"available\",\"away\",\"awfully\",\"b\",\"be\",\"became\",\"because\",\"become\",\"becomes\",\"becoming\",\"been\",\"before\",\"beforehand\",\"behind\",\"being\",\"believe\",\"below\",\"beside\",\"besides\",\"best\",\"better\",\"between\",\"beyond\",\"both\",\"brief\",\"but\",\"by\",\"c\",\"c'mon\",\"c's\",\"came\",\"can\",\"can't\",\"cannot\",\"cant\",\"cause\",\"causes\",\"certain\",\"certainly\",\"changes\",\"clearly\",\"co\",\"com\",\"come\",\"comes\",\"concerning\",\"consequently\",\"consider\",\"considering\",\"contain\",\"containing\",\"contains\",\"corresponding\",\"could\",\"couldn't\",\"course\",\"currently\",\"d\",\"definitely\",\"described\",\"despite\",\"did\",\"didn't\",\"different\",\"do\",\"does\",\"doesn't\",\"doing\",\"don't\",\"done\",\"down\",\"downwards\",\"during\",\"e\",\"each\",\"edu\",\"eg\",\"eight\",\"either\",\"else\",\"elsewhere\",\"enough\",\"entirely\",\"especially\",\"et\",\"etc\",\"even\",\"ever\",\"every\",\"everybody\",\"everyone\",\"everything\",\"everywhere\",\"ex\",\"exactly\",\"example\",\"except\",\"f\",\"far\",\"few\",\"fifth\",\"first\",\"five\",\"followed\",\"following\",\"follows\",\"for\",\"former\",\"formerly\",\"forth\",\"four\",\"from\",\"further\",\"furthermore\",\"g\",\"get\",\"gets\",\"getting\",\"given\",\"gives\",\"go\",\"goes\",\"going\",\"gone\",\"got\",\"gotten\",\"greetings\",\"h\",\"had\",\"hadn't\",\"happens\",\"hardly\",\"has\",\"hasn't\",\"have\",\"haven't\",\"having\",\"he\",\"he's\",\"hello\",\"help\",\"hence\",\"her\",\"here\",\"here's\",\"hereafter\",\"hereby\",\"herein\",\"hereupon\",\"hers\",\"herself\",\"hi\",\"him\",\"himself\",\"his\",\"hither\",\"hopefully\",\"how\",\"howbeit\",\"however\",\"i\",\"i'd\",\"i'll\",\"i'm\",\"i've\",\"ie\",\"if\",\"ignored\",\"immediate\",\"in\",\"inasmuch\",\"inc\",\"indeed\",\"indicate\",\"indicated\",\"indicates\",\"inner\",\"insofar\",\"instead\",\"into\",\"inward\",\"is\",\"isn't\",\"it\",\"it'd\",\"it'll\",\"it's\",\"its\",\"itself\",\"j\",\"just\",\"k\",\"keep\",\"keeps\",\"kept\",\"know\",\"known\",\"knows\",\"l\",\"last\",\"lately\",\"later\",\"latter\",\"latterly\",\"least\",\"less\",\"lest\",\"let\",\"let's\",\"like\",\"liked\",\"likely\",\"little\",\"look\",\"looking\",\"looks\",\"ltd\",\"m\",\"mainly\",\"many\",\"may\",\"maybe\",\"me\",\"mean\",\"meanwhile\",\"merely\",\"might\",\"more\",\"moreover\",\"most\",\"mostly\",\"much\",\"must\",\"my\",\"myself\",\"n\",\"name\",\"namely\",\"nd\",\"near\",\"nearly\",\"necessary\",\"need\",\"needs\",\"neither\",\"never\",\"nevertheless\",\"new\",\"next\",\"nine\",\"no\",\"nobody\",\"non\",\"none\",\"noone\",\"nor\",\"normally\",\"not\",\"nothing\",\"novel\",\"now\",\"nowhere\",\"o\",\"obviously\",\"of\",\"off\",\"often\",\"oh\",\"ok\",\"okay\",\"old\",\"on\",\"once\",\"one\",\"ones\",\"only\",\"onto\",\"or\",\"other\",\"others\",\"otherwise\",\"ought\",\"our\",\"ours\",\"ourselves\",\"out\",\"outside\",\"over\",\"overall\",\"own\",\"p\",\"particular\",\"particularly\",\"per\",\"perhaps\",\"placed\",\"please\",\"plus\",\"possible\",\"presumably\",\"probably\",\"provides\",\"q\",\"que\",\"quite\",\"qv\",\"r\",\"rather\",\"rd\",\"re\",\"really\",\"reasonably\",\"regarding\",\"regardless\",\"regards\",\"relatively\",\"respectively\",\"right\",\"s\",\"said\",\"same\",\"saw\",\"say\",\"saying\",\"says\",\"second\",\"secondly\",\"see\",\"seeing\",\"seem\",\"seemed\",\"seeming\",\"seems\",\"seen\",\"self\",\"selves\",\"sensible\",\"sent\",\"serious\",\"seriously\",\"seven\",\"several\",\"shall\",\"she\",\"should\",\"shouldn't\",\"since\",\"six\",\"so\",\"some\",\"somebody\",\"somehow\",\"someone\",\"something\",\"sometime\",\"sometimes\",\"somewhat\",\"somewhere\",\"soon\",\"sorry\",\"specified\",\"specify\",\"specifying\",\"still\",\"sub\",\"such\",\"sup\",\"sure\",\"t\",\"t's\",\"take\",\"taken\",\"tell\",\"tends\",\"th\",\"than\",\"thank\",\"thanks\",\"thanx\",\"that\",\"that's\",\"thats\",\"the\",\"their\",\"theirs\",\"them\",\"themselves\",\"then\",\"thence\",\"there\",\"there's\",\"thereafter\",\"thereby\",\"therefore\",\"therein\",\"theres\",\"thereupon\",\"these\",\"they\",\"they'd\",\"they'll\",\"they're\",\"they've\",\"think\",\"third\",\"this\",\"thorough\",\"thoroughly\",\"those\",\"though\",\"three\",\"through\",\"throughout\",\"thru\",\"thus\",\"to\",\"together\",\"too\",\"took\",\"toward\",\"towards\",\"tried\",\"tries\",\"truly\",\"try\",\"trying\",\"twice\",\"two\",\"u\",\"un\",\"under\",\"unfortunately\",\"unless\",\"unlikely\",\"until\",\"unto\",\"up\",\"upon\",\"us\",\"use\",\"used\",\"useful\",\"uses\",\"using\",\"usually\",\"uucp\",\"v\",\"value\",\"various\",\"very\",\"via\",\"viz\",\"vs\",\"w\",\"want\",\"wants\",\"was\",\"wasn't\",\"way\",\"we\",\"we'd\",\"we'll\",\"we're\",\"we've\",\"welcome\",\"well\",\"went\",\"were\",\"weren't\",\"what\",\"what's\",\"whatever\",\"when\",\"whence\",\"whenever\",\"where\",\"where's\",\"whereafter\",\"whereas\",\"whereby\",\"wherein\",\"whereupon\",\"wherever\",\"whether\",\"which\",\"while\",\"whither\",\"who\",\"who's\",\"whoever\",\"whole\",\"whom\",\"whose\",\"why\",\"will\",\"willing\",\"wish\",\"with\",\"within\",\"without\",\"won't\",\"wonder\",\"would\",\"wouldn't\",\"x\",\"y\",\"yes\",\"yet\",\"you\",\"you'd\",\"you'll\",\"you're\",\"you've\",\"your\",\"yours\",\"yourself\",\"yourselves\",\"z\",\"zero\"]\n",
    "    stop_words_set = set(stopwords.words('english'))\n",
    "    stop_words_set = stop_words_set.union(set(stop_words_extended))\n",
    "\n",
    "    tweet = [word for word in tweet if word not in stop_words_set]\n",
    "\n",
    "    return tweet\n",
    "\n",
    "def stemming(tweet: list) -> list:\n",
    "    stemmer = PorterStemmer()\n",
    "    tweet = [stemmer.stem(word) for word in tweet]\n",
    "    return tweet\n",
    "\n",
    "def tokenize_tweet(tweet: str) -> list:\n",
    "  tokenized_tweet = nltk.word_tokenize(tweet)\n",
    "  return tokenized_tweet\n",
    "\n",
    "def remove_extra_whitespaces(tweet: str) -> str:\n",
    "  tweet = re.sub(' +',' ', tweet) # jedna lub więcej spacji\n",
    "  return tweet\n",
    "\n",
    "def expand_contractions(tweet: str) -> str:\n",
    "  tweet = contractions.fix(tweet)\n",
    "  return tweet\n",
    "\n",
    "def unidecode_characters(tweet: str) -> str:\n",
    "  tweet = unidecode.unidecode(tweet)\n",
    "  return tweet\n",
    "\n",
    "def join_list_to_sentence(list_of_words: list) -> str:\n",
    "  sentence = ' '.join(list_of_words)\n",
    "  sentence = sentence.strip()\n",
    "  return sentence\n",
    "\n",
    "def transform_numbers_to_words(word_list: list) -> list:\n",
    "    engine = inflect.engine()\n",
    "    transformed_list = []\n",
    "\n",
    "    for word in word_list:\n",
    "        if word.isdigit():\n",
    "            transformed_word = engine.number_to_words(word)\n",
    "            transformed_list.append(transformed_word)\n",
    "        else:\n",
    "            transformed_list.append(word)\n",
    "\n",
    "    return transformed_list\n",
    "\n",
    "def lemmatize_words(word_list: list) -> list:\n",
    "    lemmatizer = WordNetLemmatizer()\n",
    "    lemmatized_words = []\n",
    "\n",
    "    for word in word_list:\n",
    "        lemmatized_word = lemmatizer.lemmatize(word)\n",
    "        lemmatized_words.append(lemmatized_word)\n",
    "\n",
    "    return lemmatized_words"
   ]
  },
  {
   "cell_type": "markdown",
   "metadata": {
    "id": "HtjVU_-9lfKh"
   },
   "source": [
    "### Normalizacja\n",
    "Po przygotowaniu odpowiednich funkcji przystąpiono do normalizacji danych."
   ]
  },
  {
   "cell_type": "code",
   "execution_count": null,
   "metadata": {
    "colab": {
     "base_uri": "https://localhost:8080/"
    },
    "id": "F3ycxzd0WY4w",
    "outputId": "7a7d4cc2-176e-47af-a748-18734428a67c"
   },
   "outputs": [],
   "source": [
    "X.head(1)"
   ]
  },
  {
   "cell_type": "markdown",
   "metadata": {
    "id": "xd_Gx9-9W6lW"
   },
   "source": [
    "Normalizacje rozpoczęto od ujednolicenia wielkości liter poprzez zmniejszenie ich."
   ]
  },
  {
   "cell_type": "code",
   "execution_count": null,
   "metadata": {
    "colab": {
     "base_uri": "https://localhost:8080/"
    },
    "id": "Qo7HLl-FHtl7",
    "outputId": "50216134-d7d1-491f-895f-c65b533bf500"
   },
   "outputs": [],
   "source": [
    "# zmniejszanie liter\n",
    "X_lowed = X.apply(lower)\n",
    "X_lowed.head(1)"
   ]
  },
  {
   "cell_type": "markdown",
   "metadata": {
    "id": "6ZqoHRYdXHqU"
   },
   "source": [
    "Następnie usunięto zbędne elementy, jak na przykład tagi HTMl albo elementy adresów URL."
   ]
  },
  {
   "cell_type": "code",
   "execution_count": null,
   "metadata": {
    "colab": {
     "base_uri": "https://localhost:8080/"
    },
    "id": "xzywEO39bsKV",
    "outputId": "b3d5d4d4-e5e9-43fe-b739-8a6e2cf76b93"
   },
   "outputs": [],
   "source": [
    "# usuwanie niepotrzebnych elementów, np.tagi HTML\n",
    "X_cleaned = X_lowed.apply(clean_tweet)\n",
    "X_cleaned.head(1)"
   ]
  },
  {
   "cell_type": "markdown",
   "metadata": {
    "id": "kD-8KHaHXiT1"
   },
   "source": [
    "Po usunięciu zbędnych elementów przeprowadzono unidecoding, czyli zmianę formatu unicode na format ASCII."
   ]
  },
  {
   "cell_type": "code",
   "execution_count": null,
   "metadata": {
    "colab": {
     "base_uri": "https://localhost:8080/"
    },
    "id": "TfAYvIXUb9oQ",
    "outputId": "0a6f43e6-4ad9-4b6d-929e-7d2742291edd"
   },
   "outputs": [],
   "source": [
    "# unidecoding\n",
    "X_without_accented_characters = X_cleaned.apply(unidecode_characters)\n",
    "X_without_accented_characters.head(1)"
   ]
  },
  {
   "cell_type": "markdown",
   "metadata": {
    "id": "LK57A6USXkR1"
   },
   "source": [
    "Następnie usunięto ze zbioru nadmierne odstępy między słowami."
   ]
  },
  {
   "cell_type": "code",
   "execution_count": null,
   "metadata": {
    "colab": {
     "base_uri": "https://localhost:8080/"
    },
    "id": "hQX9xhaWcQTu",
    "outputId": "2259b9ce-0bc5-45db-86b0-39f992e28925"
   },
   "outputs": [],
   "source": [
    "# usuwanie nadmiernych spacji\n",
    "X_without_extra_whitespaces = X_without_accented_characters.apply(remove_extra_whitespaces)\n",
    "X_without_extra_whitespaces.head(1)"
   ]
  },
  {
   "cell_type": "markdown",
   "metadata": {
    "id": "LFhIakRMXsou"
   },
   "source": [
    "Kolejnym krokiem była zamiana skróconych wersji słów do ich pełnych form, przykładowo I've -> I have."
   ]
  },
  {
   "cell_type": "code",
   "execution_count": null,
   "metadata": {
    "colab": {
     "base_uri": "https://localhost:8080/"
    },
    "id": "FokFMdn6Rf4v",
    "outputId": "41e029a6-93ca-4ec4-8b36-165205852c28"
   },
   "outputs": [],
   "source": [
    "# expand contractions\n",
    "X_with_expanded_contractions = X_without_extra_whitespaces.apply(expand_contractions)\n",
    "X_with_expanded_contractions.head(1)"
   ]
  },
  {
   "cell_type": "markdown",
   "metadata": {
    "id": "hmbHinPAYIIt"
   },
   "source": [
    "Następnie przeprowadzono tokenizację."
   ]
  },
  {
   "cell_type": "code",
   "execution_count": null,
   "metadata": {
    "colab": {
     "base_uri": "https://localhost:8080/"
    },
    "id": "XYSYxE6HGgWB",
    "outputId": "aa4403aa-64b0-4b21-b3a1-940a65b02c34"
   },
   "outputs": [],
   "source": [
    "# tokenizacja\n",
    "X_tokenized = X_with_expanded_contractions.apply(tokenize_tweet)\n",
    "X_tokenized.head(1)"
   ]
  },
  {
   "cell_type": "markdown",
   "metadata": {
    "id": "Qvq-yqQYJ0VR"
   },
   "source": [
    "Następnie zamieniono wartości liczbowe do odpowiadających im słowom.\n",
    "\n"
   ]
  },
  {
   "cell_type": "code",
   "execution_count": null,
   "metadata": {
    "colab": {
     "base_uri": "https://localhost:8080/"
    },
    "id": "ybJF4qDyJy9T",
    "outputId": "e3fd0535-4730-4f5a-d879-45ac895e40bc"
   },
   "outputs": [],
   "source": [
    "# zamiana liczb na słowa\n",
    "X_without_numbers = X_tokenized.apply(transform_numbers_to_words)\n",
    "X_without_numbers.head(1)"
   ]
  },
  {
   "cell_type": "markdown",
   "metadata": {
    "id": "rtACa4pPYJ9N"
   },
   "source": [
    "W kolejnym kroku usunięto znaki interpunkcyjne."
   ]
  },
  {
   "cell_type": "code",
   "execution_count": null,
   "metadata": {
    "colab": {
     "base_uri": "https://localhost:8080/"
    },
    "id": "M3FWUsOoYuvT",
    "outputId": "eb09420f-7e87-4b69-c6c5-ddff5de8c4db"
   },
   "outputs": [],
   "source": [
    "# usuwanie znaków interpunkcyjnych\n",
    "X_without_punctuation = X_without_numbers.apply(remove_punctuation)\n",
    "X_without_punctuation.head(1)"
   ]
  },
  {
   "cell_type": "markdown",
   "metadata": {
    "id": "IpopHVy-s0l-"
   },
   "source": [
    "Następnie usunięto słowa ff i rt, czyli tagi na Twitter'ze."
   ]
  },
  {
   "cell_type": "code",
   "execution_count": null,
   "metadata": {
    "colab": {
     "base_uri": "https://localhost:8080/"
    },
    "id": "zWvyUWs-ssRt",
    "outputId": "f700f0ef-f2e5-41df-f9f1-db16a903fff8"
   },
   "outputs": [],
   "source": [
    "# usuwanie tagów Twitter\n",
    "X_without_twitter_tags = X_without_punctuation.apply(remove_twitter_tags)\n",
    "X_without_twitter_tags.head(1)"
   ]
  },
  {
   "cell_type": "markdown",
   "metadata": {
    "id": "bVglftX7YPEN"
   },
   "source": [
    "Po usunięciu tagów usunięto tzw. \"stop words\", czyli słowa mające mały wpływ na końcowe znaczenie zdania, na przykład: a, an, the."
   ]
  },
  {
   "cell_type": "code",
   "execution_count": null,
   "metadata": {
    "colab": {
     "base_uri": "https://localhost:8080/"
    },
    "id": "YP2fnVAhILy_",
    "outputId": "18158a1f-e069-428e-c7fd-84729ca84f54"
   },
   "outputs": [],
   "source": [
    "# usuwanie stop words\n",
    "X_without_stop_words = X_without_twitter_tags.apply(remove_stop_words)\n",
    "X_without_stop_words.head(1)"
   ]
  },
  {
   "cell_type": "markdown",
   "metadata": {
    "id": "4P7ojtrtly_p"
   },
   "source": [
    "### Stemming\n",
    "\n",
    "Na znormalizowanym zbiorze danych można przeprowadzić stemming lub lematyzację, czyli redukcję słów do ich bazowej formy. W eksperymencie zdecydowano się na wykorzystanie lematyzacji, która służy do tego samego zadania co stemming, ale zachowuje znaczenie słów, np. nie ujednolica training i train do tego samego znaczenia."
   ]
  },
  {
   "cell_type": "code",
   "execution_count": null,
   "metadata": {
    "id": "cXTYK3_jFTUp"
   },
   "outputs": [],
   "source": [
    "# stemming\n",
    "# X_stemmed = X_without_stop_words.apply(stemming)\n",
    "# X_stemmed.head(3)"
   ]
  },
  {
   "cell_type": "markdown",
   "metadata": {
    "id": "vEpgbKa__m8-"
   },
   "source": [
    "### Lematyzacja"
   ]
  },
  {
   "cell_type": "code",
   "execution_count": null,
   "metadata": {
    "colab": {
     "base_uri": "https://localhost:8080/"
    },
    "id": "pKyVlJPG_XWb",
    "outputId": "a728dc57-90cb-488e-9a44-c894e4089d87"
   },
   "outputs": [],
   "source": [
    "# lematyzacja\n",
    "X_lemmatized = X_without_stop_words.apply(lemmatize_words)\n",
    "X_lemmatized.head(1)"
   ]
  },
  {
   "cell_type": "code",
   "execution_count": null,
   "metadata": {
    "colab": {
     "base_uri": "https://localhost:8080/"
    },
    "id": "sW4TrDuidQ6H",
    "outputId": "ced4cabd-e537-4b77-c589-abcfeec59608"
   },
   "outputs": [],
   "source": [
    "X_preprocessed = X_lemmatized.apply(join_list_to_sentence)\n",
    "X_preprocessed.head(1)"
   ]
  },
  {
   "cell_type": "markdown",
   "metadata": {
    "id": "VGkZ5x2uZav8"
   },
   "source": [
    "## Sprawdzenie skuteczności przeprowadzonych operacji\n",
    "\n",
    "Po przeprowadzeniu normalizacji oraz lematyzacji ponownie obliczono statystyki oraz wygenerowano wykresy użyte w poprzedniej fazie eksperymentu w celu upewnienia się, że zastosowane zabiegi były skuteczne."
   ]
  },
  {
   "cell_type": "code",
   "execution_count": null,
   "metadata": {
    "colab": {
     "base_uri": "https://localhost:8080/"
    },
    "id": "lkTi3b0AMQia",
    "outputId": "e7478eb4-d4ab-4851-a961-5e341287131b"
   },
   "outputs": [],
   "source": [
    "# sprawdzamy unikalne symbole po oczyszczeniu danych\n",
    "print(\"Lista unikalnych znaków po przetworzeniu danych: \", set(X_preprocessed.sum()))"
   ]
  },
  {
   "cell_type": "code",
   "execution_count": null,
   "metadata": {
    "colab": {
     "base_uri": "https://localhost:8080/"
    },
    "id": "gfrg4e6sMl6H",
    "outputId": "b6deaad5-966c-4490-9142-22a7a2c6119e"
   },
   "outputs": [],
   "source": [
    "# sprawdzamy liczbę unikalnych słów po przetworzeniu danych\n",
    "results = set()\n",
    "X_preprocessed.str.lower().str.split().apply(results.update)\n",
    "print(\"Liczba unikalnych słów po przetworzeniu danych: \", len(results))"
   ]
  },
  {
   "cell_type": "code",
   "execution_count": null,
   "metadata": {
    "colab": {
     "base_uri": "https://localhost:8080/"
    },
    "id": "8ioravnP4cgQ",
    "outputId": "80e21624-25d5-4c2e-9f97-e699b2f5a920"
   },
   "outputs": [],
   "source": [
    "# sprawdzamy najpopularniejsze słowa\n",
    "Counter(\" \".join(X_preprocessed).split()).most_common(10)"
   ]
  },
  {
   "cell_type": "code",
   "execution_count": null,
   "metadata": {
    "colab": {
     "base_uri": "https://localhost:8080/",
     "height": 698
    },
    "id": "BeR6YsesbCOx",
    "outputId": "5bd82d58-23e6-4672-e49d-bf8659ccb25c"
   },
   "outputs": [],
   "source": [
    "all_words_preprocessed = join_tweets_by_class(X_preprocessed)\n",
    "plot_word_cloud(all_words_preprocessed, \"Word cloud for whole dataset\")"
   ]
  },
  {
   "cell_type": "code",
   "execution_count": null,
   "metadata": {
    "colab": {
     "base_uri": "https://localhost:8080/",
     "height": 456
    },
    "id": "rNalOkVKbfSE",
    "outputId": "bbdf5774-f75d-42c2-fb97-7b6b7af4d61f"
   },
   "outputs": [],
   "source": [
    "top_words_for_whole_dataset_preprocessed = Counter(\" \".join(X_preprocessed.str.lower()).split()).most_common(30)\n",
    "plot_top_words(top_words_for_whole_dataset_preprocessed, \"The most common 30 words in dataset\")"
   ]
  },
  {
   "cell_type": "code",
   "execution_count": null,
   "metadata": {
    "id": "OSqr0QShqaKo"
   },
   "outputs": [],
   "source": [
    "X_preprocessed_copy = X_preprocessed.copy()\n",
    "X_preprocessed_copy = pd.DataFrame(X_preprocessed_copy)"
   ]
  },
  {
   "cell_type": "code",
   "execution_count": null,
   "metadata": {
    "colab": {
     "base_uri": "https://localhost:8080/",
     "height": 423
    },
    "id": "sq1xcOt5kT84",
    "outputId": "7dda32b0-d384-4c3e-f959-09e9b726f0c2"
   },
   "outputs": [],
   "source": [
    "X_preprocessed_copy['tweet_length'] = X_preprocessed_copy[\"tweet\"].apply(len)\n",
    "\n",
    "sns.boxplot(y='tweet_length', data=X_preprocessed_copy)\n",
    "plt.title(\"Tweet length\")\n",
    "plt.xlabel(\"Class\")\n",
    "plt.ylabel(\"Tweet Length\")\n",
    "plt.show()"
   ]
  },
  {
   "cell_type": "code",
   "execution_count": null,
   "metadata": {
    "colab": {
     "base_uri": "https://localhost:8080/",
     "height": 529
    },
    "id": "ihhv2yD5kqOJ",
    "outputId": "466a6dae-006a-439d-c5c0-7c7e0b4d5478"
   },
   "outputs": [],
   "source": [
    "X_preprocessed_copy['number_of_words'] = X_preprocessed_copy[\"tweet\"].str.split().apply(len)\n",
    "sns.displot(X_preprocessed_copy['number_of_words'])\n",
    "plt.title(\"Distribution of number of words in tweets\")\n",
    "plt.show()"
   ]
  },
  {
   "cell_type": "markdown",
   "metadata": {
    "id": "PXGhDGps-Ztu"
   },
   "source": [
    "## Rozkład klas"
   ]
  },
  {
   "cell_type": "code",
   "execution_count": null,
   "metadata": {
    "colab": {
     "base_uri": "https://localhost:8080/",
     "height": 428
    },
    "id": "c6ZfpzuE-VYs",
    "outputId": "9d3735e5-1e2e-47ce-8097-10ace735b405"
   },
   "outputs": [],
   "source": [
    "sns.countplot(x=y)\n",
    "plt.title(\"Liczność klas\")\n",
    "plt.show()"
   ]
  },
  {
   "cell_type": "markdown",
   "metadata": {
    "id": "OUCc0QrLV0wN"
   },
   "source": [
    "## Podział na zbiór treningowy, walidacyjny i testowy\n",
    "\n",
    "Następnie dokonano podziału na zbiór treningowy, walidacyjny i testowy w proporcji 70:15:15."
   ]
  },
  {
   "cell_type": "code",
   "execution_count": null,
   "metadata": {
    "id": "rNX2JdrsTkjR"
   },
   "outputs": [],
   "source": [
    "X_train, X_test, y_train, y_test = train_test_split(X_preprocessed, y, test_size=0.3, random_state=101)\n",
    "X_test, X_val, y_test, y_val = train_test_split(X_test, y_test, test_size=0.5, random_state=101)"
   ]
  },
  {
   "cell_type": "code",
   "execution_count": null,
   "metadata": {
    "colab": {
     "base_uri": "https://localhost:8080/"
    },
    "id": "_vq3d1e9CHuM",
    "outputId": "0d5afafb-6d97-4534-c5b3-0500bf96b9e8"
   },
   "outputs": [],
   "source": [
    "print(X_train.shape)\n",
    "print(X_val.shape)\n",
    "print(X_test.shape)"
   ]
  },
  {
   "cell_type": "markdown",
   "metadata": {
    "id": "5HXXdmlf-E1H"
   },
   "source": [
    "## Oversampling\n",
    "\n",
    "Jak zauważono na początku klasy są niezbalansowane, więc zdecydowano się na oversampling wpisów neutralnych dla zbioru treningowego."
   ]
  },
  {
   "cell_type": "code",
   "execution_count": null,
   "metadata": {
    "id": "L6LlcSQ3GT7x"
   },
   "outputs": [],
   "source": [
    "from imblearn.over_sampling import RandomOverSampler\n",
    "\n",
    "y_train_reshaped = np.array(y_train).reshape(-1, 1)\n",
    "X_train_reshaped = np.array(X_train.values).reshape(-1, 1)\n",
    "rus = RandomOverSampler(random_state=42)\n",
    "X_train, y_train = rus.fit_resample(X_train_reshaped, y_train_reshaped)\n",
    "X_train = pd.Series(X_train.flatten())\n",
    "y_train = pd.Series(y_train.flatten())"
   ]
  },
  {
   "cell_type": "code",
   "execution_count": null,
   "metadata": {
    "colab": {
     "base_uri": "https://localhost:8080/",
     "height": 428
    },
    "id": "rOMPEV1L998f",
    "outputId": "ae4859e3-66ba-4ac2-8744-b05b0fa06685"
   },
   "outputs": [],
   "source": [
    "sns.countplot(x=y_train)\n",
    "plt.title(\"Liczność klas\")\n",
    "plt.show()"
   ]
  },
  {
   "cell_type": "code",
   "execution_count": null,
   "metadata": {
    "id": "BFlRIf9v-lF1"
   },
   "outputs": [],
   "source": [
    "y_train = tf.convert_to_tensor(y_train)\n",
    "y_val = tf.convert_to_tensor(y_val)\n",
    "y_test = tf.convert_to_tensor(y_test)"
   ]
  },
  {
   "cell_type": "markdown",
   "metadata": {
    "id": "tGzsGy3Xpawr"
   },
   "source": [
    "## Word embedding"
   ]
  },
  {
   "cell_type": "code",
   "execution_count": null,
   "metadata": {
    "id": "Ft5TtGEqotFq"
   },
   "outputs": [],
   "source": [
    "tokenizer = Tokenizer()\n",
    "tokenizer.fit_on_texts(X_train)\n",
    "\n",
    "X_train = tokenizer.texts_to_sequences(X_train)\n",
    "X_val = tokenizer.texts_to_sequences(X_val)\n",
    "X_test = tokenizer.texts_to_sequences(X_test)\n",
    "\n",
    "X_train = pad_sequences(X_train, maxlen=128, padding='post', truncating='post')\n",
    "X_val = pad_sequences(X_val, maxlen=128, padding='post', truncating='post')\n",
    "X_test = pad_sequences(X_test, maxlen=128, padding='post', truncating='post')\n",
    "\n",
    "vocabulary_size = len(tokenizer.word_index) + 1"
   ]
  },
  {
   "cell_type": "markdown",
   "metadata": {
    "id": "koe82VgdV0wO"
   },
   "source": [
    "# 5. Modelowanie"
   ]
  },
  {
   "cell_type": "code",
   "execution_count": null,
   "metadata": {
    "id": "9Jt5hx1eOo1y"
   },
   "outputs": [],
   "source": [
    "def plot_training_history(model_history):\n",
    "    epochs = range(1, len(model_history['loss']) + 1)\n",
    "    loss = model_history['loss']\n",
    "    validation_loss = model_history['val_loss']\n",
    "    accuracy = model_history['accuracy']\n",
    "    validation_accuracy = model_history['val_accuracy']\n",
    "\n",
    "    plt.figure(figsize=(9, 5))\n",
    "    plt.title('Wartość straty w zależności od epoki')\n",
    "    plt.plot(epochs, validation_loss, 'r', label='Wartość straty dla zbioru walidacyjnego',)\n",
    "    plt.plot(epochs, loss, 'b', label='Wartość straty dla zbioru treningowego',)\n",
    "    plt.ylabel('Wartość straty')\n",
    "    plt.xlabel('Epoka')\n",
    "    plt.grid(True)\n",
    "    plt.legend()\n",
    "\n",
    "    plt.xticks(epochs)\n",
    "\n",
    "    plt.show()\n",
    "\n",
    "def plot_accuracy_history(model_history):\n",
    "    epochs = range(1, len(model_history['accuracy']) + 1)\n",
    "    accuracy = model_history['accuracy']\n",
    "    validation_accuracy = model_history['val_accuracy']\n",
    "\n",
    "    plt.figure(figsize=(9, 5))\n",
    "    plt.title('Dokładność w zależności od epoki')\n",
    "    plt.plot(epochs, validation_accuracy, 'r', label='Dokładność dla zbioru walidacyjnego')\n",
    "    plt.plot(epochs, accuracy, 'b', label='Dokładność dla zbioru treningowego')\n",
    "    plt.ylabel('Dokładność')\n",
    "    plt.xlabel('Epoka')\n",
    "    plt.legend()\n",
    "    plt.grid(True)\n",
    "\n",
    "    plt.xticks(epochs)\n",
    "\n",
    "    plt.show()\n"
   ]
  },
  {
   "cell_type": "markdown",
   "metadata": {
    "id": "Pz9B9iAjAP5-"
   },
   "source": [
    "## Fine-tuning modelu języka"
   ]
  },
  {
   "cell_type": "code",
   "execution_count": null,
   "metadata": {
    "colab": {
     "base_uri": "https://localhost:8080/",
     "height": 497
    },
    "id": "e87SMvnY3ekM",
    "outputId": "13d158ba-4bca-48ec-b24c-25d3c38d60f9"
   },
   "outputs": [],
   "source": [
    "callback = tf.keras.callbacks.EarlyStopping(monitor='val_loss', patience=3, restore_best_weights=True)\n",
    "\n",
    "ft_model = TFDistilBertForSequenceClassification.from_pretrained('distilbert-base-uncased', num_labels=2)\n",
    "ft_model.compile(optimizer='adam',\n",
    "              loss=tf.keras.losses.SparseCategoricalCrossentropy(from_logits=True),\n",
    "              metrics=['accuracy'])\n",
    "\n",
    "ft_model_history = ft_model.fit(X_train, y_train, epochs=20,\n",
    "                                validation_data=(X_val, y_val), batch_size=16,\n",
    "                                callbacks=[callback])\n"
   ]
  },
  {
   "cell_type": "code",
   "execution_count": null,
   "metadata": {
    "id": "EQcS4Wj9ClhO"
   },
   "outputs": [],
   "source": [
    "plot_training_history(ft_model_history)"
   ]
  },
  {
   "cell_type": "code",
   "execution_count": null,
   "metadata": {
    "id": "LLpNvAnFCxIt"
   },
   "outputs": [],
   "source": [
    "plot_accuracy_history(ft_model_history)"
   ]
  },
  {
   "cell_type": "markdown",
   "metadata": {
    "id": "qFMWbFF7hbem"
   },
   "source": []
  },
  {
   "cell_type": "markdown",
   "metadata": {
    "id": "aokdczOUaoJX"
   },
   "source": [
    "# 6. Ewaluacja\n"
   ]
  },
  {
   "cell_type": "code",
   "execution_count": null,
   "metadata": {
    "id": "0aAMmgpTbDAz"
   },
   "outputs": [],
   "source": [
    "def prepare_confusion_matrix(preds, title):\n",
    "    predictions_result = tf.cast(tf.squeeze(tf.round(preds)), dtype=tf.int32)\n",
    "    conf = confusion_matrix(y_test, predictions_result)\n",
    "    cm = pd.DataFrame(\n",
    "        conf, index=[f'Wpis w rzeczywistości {i}' for i in ['neutralny', 'agresywny']],\n",
    "        columns=[f'Wpis przewidziany jako {i}' for i in ['neutralny', 'agresywny']]\n",
    "    )\n",
    "    sns.heatmap(cm, annot=True, fmt=\"d\", cmap='Blues')\n",
    "    plt.ylabel('Rzeczywista wartość')\n",
    "    plt.xlabel('Przewidziana wartość')\n",
    "    plt.title(title)\n",
    "    plt.show()\n",
    "\n",
    "def prepare_class_report(preds, message):\n",
    "  print(message)\n",
    "  predictions_result = tf.cast(tf.squeeze(tf.round(preds)), dtype=tf.int32)\n",
    "  print(classification_report(y_test, predictions_result, target_names=['Neutralny','Agresywny']))\n"
   ]
  },
  {
   "cell_type": "markdown",
   "metadata": {
    "id": "iH4GPCRPA1VO"
   },
   "source": [
    "## Model języka"
   ]
  },
  {
   "cell_type": "code",
   "execution_count": null,
   "metadata": {
    "id": "XS2HyMTUA3b8"
   },
   "outputs": [],
   "source": [
    "ft_y_pred = ft_model.predict(X_test)\n",
    "ft_y_pred"
   ]
  },
  {
   "cell_type": "code",
   "execution_count": null,
   "metadata": {
    "id": "4uREfCnTA30d"
   },
   "outputs": [],
   "source": [
    "ft_y_pred = tf.argmax(ft_y_pred.logits, axis=1).numpy()\n",
    "report = classification_report(y_test, ft_y_pred)\n",
    "print(report)"
   ]
  },
  {
   "cell_type": "code",
   "execution_count": null,
   "metadata": {
    "id": "I7N77kxGA3qk"
   },
   "outputs": [],
   "source": [
    "prepare_confusion_matrix(ft_y_pred, 'Macierz omyłek dla dużego modelu językowegp')"
   ]
  }
 ],
 "metadata": {
  "accelerator": "GPU",
  "colab": {
   "gpuType": "T4",
   "provenance": []
  },
  "kernelspec": {
   "display_name": "Python 3 (ipykernel)",
   "language": "python",
   "name": "python3"
  },
  "language_info": {
   "codemirror_mode": {
    "name": "ipython",
    "version": 3
   },
   "file_extension": ".py",
   "mimetype": "text/x-python",
   "name": "python",
   "nbconvert_exporter": "python",
   "pygments_lexer": "ipython3",
   "version": "3.12.3"
  }
 },
 "nbformat": 4,
 "nbformat_minor": 4
}
